{
 "cells": [
  {
   "cell_type": "code",
   "execution_count": 23,
   "metadata": {},
   "outputs": [],
   "source": [
    "import utils.ParseXML as ParseXML\n",
    "import string\n",
    "import re\n",
    "import nltk\n",
    "\n",
    "stopwords = nltk.corpus.stopwords.words('english')\n",
    "\n",
    "# Specify the path to your XML file\n",
    "xml_file_path = r'C:\\dev\\NLP-Sandbox\\PURE\\requirements-xml\\0000 - cctns.xml'\n",
    "# Define the namespace\n",
    "namespace = {'ns': 'req_document.xsd'}\n",
    "\n",
    "# import utils.ParseXML as ParseXML\n",
    "df = ParseXML.process_xml_with_namespace(xml_file_path, namespace)\n"
   ]
  }
 ],
 "metadata": {
  "kernelspec": {
   "display_name": "base",
   "language": "python",
   "name": "python3"
  },
  "language_info": {
   "codemirror_mode": {
    "name": "ipython",
    "version": 3
   },
   "file_extension": ".py",
   "mimetype": "text/x-python",
   "name": "python",
   "nbconvert_exporter": "python",
   "pygments_lexer": "ipython3",
   "version": "3.11.5"
  }
 },
 "nbformat": 4,
 "nbformat_minor": 2
}
