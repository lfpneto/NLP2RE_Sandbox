{
 "cells": [
  {
   "cell_type": "code",
   "execution_count": 67,
   "metadata": {},
   "outputs": [
    {
     "name": "stdout",
     "output_type": "stream",
     "text": [
      "3.11.5 | packaged by Anaconda, Inc. | (main, Sep 11 2023, 13:26:23) [MSC v.1916 64 bit (AMD64)]\n",
      "c:\\ProgramData\\anaconda3\\python.exe\n"
     ]
    }
   ],
   "source": [
    "# import modules\n",
    "import xml.etree.ElementTree as ET\n",
    "import pandas as pd\n",
    "import sys\n",
    "import string\n",
    "import re\n",
    "import nltk\n",
    "import sys\n",
    "import os\n",
    "import gensim\n",
    "\n",
    "# Add the src directory to sys.path\n",
    "sys.path.append(os.path.abspath(r'C:\\dev\\NLP2RE_Sandbox\\src'))\n",
    "\n",
    "\n",
    "print(sys.version)\n",
    "print(sys.executable)"
   ]
  },
  {
   "cell_type": "code",
   "execution_count": 68,
   "metadata": {},
   "outputs": [],
   "source": [
    "# Specify the path to your XML file and namespace\n",
    "xml_file_path = r'C:\\dev\\NLP2RE_Sandbox\\data\\work_data\\2007-ertms.xml'\n",
    "namespace = {'ns': 'req_document.xsd'}"
   ]
  },
  {
   "cell_type": "code",
   "execution_count": 69,
   "metadata": {},
   "outputs": [
    {
     "data": {
      "text/html": [
       "<div>\n",
       "<style scoped>\n",
       "    .dataframe tbody tr th:only-of-type {\n",
       "        vertical-align: middle;\n",
       "    }\n",
       "\n",
       "    .dataframe tbody tr th {\n",
       "        vertical-align: top;\n",
       "    }\n",
       "\n",
       "    .dataframe thead th {\n",
       "        text-align: right;\n",
       "    }\n",
       "</style>\n",
       "<table border=\"1\" class=\"dataframe\">\n",
       "  <thead>\n",
       "    <tr style=\"text-align: right;\">\n",
       "      <th></th>\n",
       "      <th>tag</th>\n",
       "      <th>text</th>\n",
       "      <th>id</th>\n",
       "      <th>path</th>\n",
       "    </tr>\n",
       "  </thead>\n",
       "  <tbody>\n",
       "    <tr>\n",
       "      <th>621</th>\n",
       "      <td>meaning</td>\n",
       "      <td>Transmission of ETCS information from a train ...</td>\n",
       "      <td></td>\n",
       "      <td>req_document/p/glossary/glossary_item/meaning</td>\n",
       "    </tr>\n",
       "    <tr>\n",
       "      <th>622</th>\n",
       "      <td>term</td>\n",
       "      <td>Train trip</td>\n",
       "      <td></td>\n",
       "      <td>req_document/p/glossary/glossary_item/term</td>\n",
       "    </tr>\n",
       "    <tr>\n",
       "      <th>623</th>\n",
       "      <td>meaning</td>\n",
       "      <td>Is used when a train passes a \"danger\" signal,...</td>\n",
       "      <td></td>\n",
       "      <td>req_document/p/glossary/glossary_item/meaning</td>\n",
       "    </tr>\n",
       "    <tr>\n",
       "      <th>624</th>\n",
       "      <td>term</td>\n",
       "      <td>Warning</td>\n",
       "      <td></td>\n",
       "      <td>req_document/p/glossary/glossary_item/term</td>\n",
       "    </tr>\n",
       "    <tr>\n",
       "      <th>625</th>\n",
       "      <td>meaning</td>\n",
       "      <td>Audible and/or visual indication to alert the ...</td>\n",
       "      <td></td>\n",
       "      <td>req_document/p/glossary/glossary_item/meaning</td>\n",
       "    </tr>\n",
       "    <tr>\n",
       "      <th>626</th>\n",
       "      <td>term</td>\n",
       "      <td>Wheelslip</td>\n",
       "      <td></td>\n",
       "      <td>req_document/p/glossary/glossary_item/term</td>\n",
       "    </tr>\n",
       "    <tr>\n",
       "      <th>627</th>\n",
       "      <td>meaning</td>\n",
       "      <td>When a traction-driven wheel loses adhesion wi...</td>\n",
       "      <td></td>\n",
       "      <td>req_document/p/glossary/glossary_item/meaning</td>\n",
       "    </tr>\n",
       "    <tr>\n",
       "      <th>628</th>\n",
       "      <td>term</td>\n",
       "      <td>Wheelslide</td>\n",
       "      <td></td>\n",
       "      <td>req_document/p/glossary/glossary_item/term</td>\n",
       "    </tr>\n",
       "    <tr>\n",
       "      <th>629</th>\n",
       "      <td>meaning</td>\n",
       "      <td>When a braked wheel loses adhesion with the ra...</td>\n",
       "      <td></td>\n",
       "      <td>req_document/p/glossary/glossary_item/meaning</td>\n",
       "    </tr>\n",
       "    <tr>\n",
       "      <th>630</th>\n",
       "      <td>title</td>\n",
       "      <td>Other technical functions</td>\n",
       "      <td>11</td>\n",
       "      <td>req_document/p/title</td>\n",
       "    </tr>\n",
       "  </tbody>\n",
       "</table>\n",
       "</div>"
      ],
      "text/plain": [
       "         tag                                               text  id  \\\n",
       "621  meaning  Transmission of ETCS information from a train ...       \n",
       "622     term                                         Train trip       \n",
       "623  meaning  Is used when a train passes a \"danger\" signal,...       \n",
       "624     term                                            Warning       \n",
       "625  meaning  Audible and/or visual indication to alert the ...       \n",
       "626     term                                          Wheelslip       \n",
       "627  meaning  When a traction-driven wheel loses adhesion wi...       \n",
       "628     term                                         Wheelslide       \n",
       "629  meaning  When a braked wheel loses adhesion with the ra...       \n",
       "630    title                          Other technical functions  11   \n",
       "\n",
       "                                              path  \n",
       "621  req_document/p/glossary/glossary_item/meaning  \n",
       "622     req_document/p/glossary/glossary_item/term  \n",
       "623  req_document/p/glossary/glossary_item/meaning  \n",
       "624     req_document/p/glossary/glossary_item/term  \n",
       "625  req_document/p/glossary/glossary_item/meaning  \n",
       "626     req_document/p/glossary/glossary_item/term  \n",
       "627  req_document/p/glossary/glossary_item/meaning  \n",
       "628     req_document/p/glossary/glossary_item/term  \n",
       "629  req_document/p/glossary/glossary_item/meaning  \n",
       "630                           req_document/p/title  "
      ]
     },
     "execution_count": 69,
     "metadata": {},
     "output_type": "execute_result"
    }
   ],
   "source": [
    "# Parse .xml to df\n",
    "from Utils import parse_xml\n",
    "\n",
    "# import utils.ParseXML as ParseXML\n",
    "df = parse_xml.process_xml_with_namespace(xml_file_path, namespace)\n",
    "df.tail(10)"
   ]
  },
  {
   "cell_type": "code",
   "execution_count": 70,
   "metadata": {},
   "outputs": [
    {
     "data": {
      "text/html": [
       "<div>\n",
       "<style scoped>\n",
       "    .dataframe tbody tr th:only-of-type {\n",
       "        vertical-align: middle;\n",
       "    }\n",
       "\n",
       "    .dataframe tbody tr th {\n",
       "        vertical-align: top;\n",
       "    }\n",
       "\n",
       "    .dataframe thead th {\n",
       "        text-align: right;\n",
       "    }\n",
       "</style>\n",
       "<table border=\"1\" class=\"dataframe\">\n",
       "  <thead>\n",
       "    <tr style=\"text-align: right;\">\n",
       "      <th></th>\n",
       "      <th>tag</th>\n",
       "      <th>text</th>\n",
       "      <th>id</th>\n",
       "      <th>path</th>\n",
       "      <th>text_clean</th>\n",
       "    </tr>\n",
       "  </thead>\n",
       "  <tbody>\n",
       "    <tr>\n",
       "      <th>0</th>\n",
       "      <td>title</td>\n",
       "      <td>ERTMS/ETCS Functional Requirements Specificati...</td>\n",
       "      <td></td>\n",
       "      <td>req_document/title</td>\n",
       "      <td>[ertm, etc, function, requir, specif, fr]</td>\n",
       "    </tr>\n",
       "    <tr>\n",
       "      <th>1</th>\n",
       "      <td>version</td>\n",
       "      <td>5.00</td>\n",
       "      <td></td>\n",
       "      <td>req_document/version</td>\n",
       "      <td>[5, 00]</td>\n",
       "    </tr>\n",
       "    <tr>\n",
       "      <th>2</th>\n",
       "      <td>issue_date</td>\n",
       "      <td>2007-06-21</td>\n",
       "      <td></td>\n",
       "      <td>req_document/issue_date</td>\n",
       "      <td>[2007, 06, 21]</td>\n",
       "    </tr>\n",
       "    <tr>\n",
       "      <th>3</th>\n",
       "      <td>file_number</td>\n",
       "      <td>ERA/ERTMS/003204</td>\n",
       "      <td></td>\n",
       "      <td>req_document/file_number</td>\n",
       "      <td>[era, ertm, 003204]</td>\n",
       "    </tr>\n",
       "    <tr>\n",
       "      <th>4</th>\n",
       "      <td>change_date</td>\n",
       "      <td>2007-06-21</td>\n",
       "      <td></td>\n",
       "      <td>req_document/change_log/change_log_item/change...</td>\n",
       "      <td>[2007, 06, 21]</td>\n",
       "    </tr>\n",
       "  </tbody>\n",
       "</table>\n",
       "</div>"
      ],
      "text/plain": [
       "           tag                                               text id  \\\n",
       "0        title  ERTMS/ETCS Functional Requirements Specificati...      \n",
       "1      version                                               5.00      \n",
       "2   issue_date                                         2007-06-21      \n",
       "3  file_number                                   ERA/ERTMS/003204      \n",
       "4  change_date                                         2007-06-21      \n",
       "\n",
       "                                                path  \\\n",
       "0                                 req_document/title   \n",
       "1                               req_document/version   \n",
       "2                            req_document/issue_date   \n",
       "3                           req_document/file_number   \n",
       "4  req_document/change_log/change_log_item/change...   \n",
       "\n",
       "                                  text_clean  \n",
       "0  [ertm, etc, function, requir, specif, fr]  \n",
       "1                                    [5, 00]  \n",
       "2                             [2007, 06, 21]  \n",
       "3                        [era, ertm, 003204]  \n",
       "4                             [2007, 06, 21]  "
      ]
     },
     "execution_count": 70,
     "metadata": {},
     "output_type": "execute_result"
    }
   ],
   "source": [
    "# Create 'text_clean' attribute in df (list of tokens)\n",
    "from Utils import clean_data\n",
    "\n",
    "df['text_clean'] = df['text'].apply(lambda x: clean_data.preprocess_data_str(x))\n",
    "\n",
    "df.head()"
   ]
  },
  {
   "cell_type": "code",
   "execution_count": 71,
   "metadata": {},
   "outputs": [],
   "source": [
    "# Create a corpus\n",
    "# clean_text = clean_data.df_tokenize(df['text_clean'], 2)\n",
    "clean_text = df['text_clean']\n"
   ]
  },
  {
   "cell_type": "code",
   "execution_count": 72,
   "metadata": {},
   "outputs": [],
   "source": [
    " # Create a Dictionary: Associate each word in the corpus with a unique integer ID\n",
    "from gensim import corpora\n",
    "\n",
    "dictionary = corpora.Dictionary(clean_text)"
   ]
  },
  {
   "cell_type": "code",
   "execution_count": 73,
   "metadata": {},
   "outputs": [],
   "source": [
    "# Convert document into the bag-of-words (BoW) format\n",
    "\n",
    "corpus = [dictionary.doc2bow(text) for text in clean_text]"
   ]
  },
  {
   "cell_type": "code",
   "execution_count": 74,
   "metadata": {
    "tags": [
     "parameters"
    ]
   },
   "outputs": [],
   "source": [
    "num_topics = 60"
   ]
  },
  {
   "cell_type": "code",
   "execution_count": 75,
   "metadata": {},
   "outputs": [
    {
     "name": "stdout",
     "output_type": "stream",
     "text": [
      "(20, '0.064*\"train\" + 0.058*\"the\" + 0.035*\"a\" + 0.032*\"to\" + 0.032*\"\" + 0.027*\"of\" + 0.019*\"be\" + 0.018*\"or\" + 0.018*\"from\" + 0.018*\"inform\"')\n",
      "(28, '0.002*\"equipmen\" + 0.002*\"overrid\" + 0.002*\"assess\" + 0.002*\"foreseen\" + 0.002*\"hour\" + 0.002*\"need\" + 0.002*\"retent\" + 0.002*\"veri\" + 0.002*\"week\" + 0.002*\"24\"')\n",
      "(5, '0.106*\"the\" + 0.042*\"\" + 0.037*\"driver\" + 0.035*\"to\" + 0.032*\"shall\" + 0.026*\"be\" + 0.023*\"etc\" + 0.021*\"system\" + 0.018*\"data\" + 0.018*\"inform\"')\n",
      "(57, '0.069*\"the\" + 0.043*\"train\" + 0.038*\"be\" + 0.034*\"to\" + 0.031*\"shall\" + 0.025*\"\" + 0.025*\"or\" + 0.022*\"equip\" + 0.021*\"level\" + 0.021*\"ertm\"')\n",
      "(17, '0.006*\"shunt\" + 0.006*\"for\" + 0.006*\"movement\" + 0.005*\"signal\" + 0.005*\"are\" + 0.004*\"in\" + 0.004*\"valid\" + 0.004*\"some\" + 0.004*\"case\" + 0.004*\"train\"')\n",
      "(11, '0.070*\"to\" + 0.052*\"train\" + 0.048*\"\" + 0.033*\"for\" + 0.029*\"the\" + 0.027*\"and\" + 0.025*\"a\" + 0.023*\"is\" + 0.022*\"etc\" + 0.016*\"shall\"')\n",
      "(54, '0.002*\"equipmen\" + 0.002*\"overrid\" + 0.002*\"assess\" + 0.002*\"foreseen\" + 0.002*\"hour\" + 0.002*\"need\" + 0.002*\"retent\" + 0.002*\"veri\" + 0.002*\"week\" + 0.002*\"24\"')\n",
      "(34, '0.107*\"the\" + 0.036*\"and\" + 0.036*\"equip\" + 0.036*\"regard\" + 0.036*\"indic\" + 0.036*\"trainborn\" + 0.036*\"on\" + 0.036*\"inform\" + 0.036*\"suppli\" + 0.036*\"dmi\"')\n",
      "(3, '0.058*\"the\" + 0.053*\"\" + 0.053*\"to\" + 0.025*\"and\" + 0.024*\"shall\" + 0.024*\"etc\" + 0.019*\"data\" + 0.019*\"driver\" + 0.019*\"describ\" + 0.019*\"function\"')\n",
      "(45, '0.062*\"the\" + 0.031*\"for\" + 0.026*\"time\" + 0.025*\"shall\" + 0.020*\"releas\" + 0.019*\"on\" + 0.019*\"be\" + 0.013*\"calcul\" + 0.013*\"overlap\" + 0.013*\"base\"')\n",
      "(51, '0.042*\"vehicl\" + 0.042*\"cab\" + 0.042*\"s\" + 0.042*\"where\" + 0.042*\"a\" + 0.042*\"drive\" + 0.042*\"from\" + 0.042*\"movement\" + 0.042*\"oper\" + 0.042*\"\"')\n",
      "(55, '0.055*\"train\" + 0.036*\"\" + 0.035*\"is\" + 0.033*\"a\" + 0.019*\"or\" + 0.019*\"etc\" + 0.019*\"and\" + 0.019*\"locat\" + 0.019*\"be\" + 0.018*\"of\"')\n",
      "(56, '0.057*\"\" + 0.043*\"signal\" + 0.043*\"a\" + 0.041*\"train\" + 0.029*\"for\" + 0.023*\"be\" + 0.023*\"to\" + 0.022*\"the\" + 0.018*\"oper\" + 0.017*\"or\"')\n",
      "(8, '0.062*\"the\" + 0.043*\"\" + 0.040*\"for\" + 0.040*\"train\" + 0.035*\"a\" + 0.031*\"to\" + 0.030*\"track\" + 0.025*\"and\" + 0.023*\"movement\" + 0.019*\"of\"')\n",
      "(59, '0.044*\"etc\" + 0.043*\"be\" + 0.043*\"shall\" + 0.036*\"to\" + 0.035*\"\" + 0.035*\"the\" + 0.028*\"it\" + 0.026*\"equip\" + 0.026*\"a\" + 0.023*\"train\"')\n",
      "(39, '0.091*\"function\" + 0.091*\"train\" + 0.046*\"technic\" + 0.046*\"transmiss\" + 0.046*\"trip\" + 0.046*\"track\" + 0.046*\"to\" + 0.046*\"the\" + 0.046*\"other\" + 0.001*\"reciev\"')\n",
      "(0, '0.053*\"speed\" + 0.053*\"and\" + 0.042*\"\" + 0.032*\"in\" + 0.032*\"the\" + 0.021*\"is\" + 0.021*\"be\" + 0.021*\"special\" + 0.021*\"of\" + 0.021*\"traction\"')\n",
      "(15, '0.087*\"unfit\" + 0.087*\"oper\" + 0.044*\"if\" + 0.044*\"line\" + 0.044*\"shall\" + 0.044*\"by\" + 0.044*\"possibl\" + 0.044*\"tracksid\" + 0.044*\"be\" + 0.044*\"order\"')\n",
      "(16, '0.074*\"train\" + 0.054*\"the\" + 0.036*\"level\" + 0.032*\"to\" + 0.023*\"a\" + 0.021*\"is\" + 0.020*\"by\" + 0.019*\"shall\" + 0.019*\"\" + 0.019*\"track\"')\n",
      "(6, '0.075*\"the\" + 0.027*\"train\" + 0.026*\"requir\" + 0.024*\"track\" + 0.024*\"on\" + 0.022*\"be\" + 0.020*\"valu\" + 0.020*\"speed\" + 0.020*\"for\" + 0.019*\"shall\"')\n"
     ]
    }
   ],
   "source": [
    "# Train the model on the corpus.\n",
    "lda_model = gensim.models.ldamodel.LdaModel(corpus, num_topics=num_topics, id2word=dictionary)\n",
    "topics = lda_model.print_topics()\n",
    "\n",
    "# Print topics with words instead of IDs\n",
    "for topic in topics:\n",
    "    print(topic)"
   ]
  },
  {
   "cell_type": "code",
   "execution_count": 76,
   "metadata": {},
   "outputs": [],
   "source": [
    "# Get the topic distributions for each document\n",
    "corpus_lda = lda_model[corpus]\n"
   ]
  },
  {
   "cell_type": "code",
   "execution_count": 77,
   "metadata": {},
   "outputs": [
    {
     "name": "stdout",
     "output_type": "stream",
     "text": [
      "\n",
      " topic_matrix\n",
      "[[0.         0.         0.         ... 0.         0.         0.85952049]\n",
      " [0.         0.         0.         ... 0.         0.         0.        ]\n",
      " [0.         0.         0.         ... 0.         0.         0.        ]\n",
      " ...\n",
      " [0.01666667 0.01666667 0.01666667 ... 0.01666667 0.01666667 0.01666667]\n",
      " [0.         0.         0.         ... 0.         0.         0.        ]\n",
      " [0.         0.         0.         ... 0.         0.         0.        ]]\n"
     ]
    }
   ],
   "source": [
    "from gensim import corpora, models, similarities\n",
    "from gensim.models import LsiModel\n",
    "from sklearn.metrics.pairwise import cosine_similarity\n",
    "import numpy as np\n",
    "\n",
    "\n",
    "# Create a matrix where each row will correspond to the topic distribution of a document\n",
    "topic_matrix = []\n",
    "for doc in corpus_lda:\n",
    "    # Convert the topic distribution to a dense vector\n",
    "    vector = [0] * lda_model.num_topics\n",
    "    for topic, value in doc:\n",
    "        vector[topic] = value        \n",
    "    topic_matrix.append(vector)\n",
    "print(\"\\n topic_matrix\")    \n",
    "\n",
    "# Convert list to numpy array for easy computation\n",
    "topic_matrix = np.array(topic_matrix)\n",
    "print(topic_matrix)    \n"
   ]
  },
  {
   "cell_type": "code",
   "execution_count": 78,
   "metadata": {},
   "outputs": [
    {
     "name": "stdout",
     "output_type": "stream",
     "text": [
      "[[1.         0.         0.         ... 0.12909944 0.         0.        ]\n",
      " [0.         1.         0.         ... 0.12909944 0.         0.        ]\n",
      " [0.         0.         1.         ... 0.12909944 0.         0.        ]\n",
      " ...\n",
      " [0.12909944 0.12909944 0.12909944 ... 1.         0.12909944 0.12909944]\n",
      " [0.         0.         0.         ... 0.12909944 1.         0.        ]\n",
      " [0.         0.         0.         ... 0.12909944 0.         1.        ]]\n"
     ]
    }
   ],
   "source": [
    "# Compute cosine similarity between all pairs of documents\n",
    "similarity_matrix = cosine_similarity(topic_matrix)\n",
    "print(similarity_matrix)"
   ]
  },
  {
   "cell_type": "markdown",
   "metadata": {},
   "source": [
    "## Analyze the Distance\n",
    "### Measures the cosine distance between topics, with higher distance indicating more distinct topics.\n",
    "\n",
    "Now you can analyze the distances (or similarities) between the topic distributions:\n",
    "\n",
    "The similarity_matrix will give you the pairwise cosine similarities between the documents based on their LDA topic distributions. You can convert these similarities into distances if needed (e.g., distance = 1 - similarity).\n",
    "\n",
    "This process allows you to calculate and analyze the LDA topic distances using Gensim in Python."
   ]
  },
  {
   "cell_type": "code",
   "execution_count": 79,
   "metadata": {},
   "outputs": [
    {
     "name": "stdout",
     "output_type": "stream",
     "text": [
      "Distance Matrix for documents:\n",
      "[[ 0.00000000e+00  1.00000000e+00  1.00000000e+00 ...  8.70900555e-01\n",
      "   1.00000000e+00  1.00000000e+00]\n",
      " [ 1.00000000e+00  0.00000000e+00  1.00000000e+00 ...  8.70900555e-01\n",
      "   1.00000000e+00  1.00000000e+00]\n",
      " [ 1.00000000e+00  1.00000000e+00  0.00000000e+00 ...  8.70900555e-01\n",
      "   1.00000000e+00  1.00000000e+00]\n",
      " ...\n",
      " [ 8.70900555e-01  8.70900555e-01  8.70900555e-01 ... -1.33226763e-15\n",
      "   8.70900555e-01  8.70900555e-01]\n",
      " [ 1.00000000e+00  1.00000000e+00  1.00000000e+00 ...  8.70900555e-01\n",
      "   0.00000000e+00  1.00000000e+00]\n",
      " [ 1.00000000e+00  1.00000000e+00  1.00000000e+00 ...  8.70900555e-01\n",
      "   1.00000000e+00  0.00000000e+00]]\n"
     ]
    }
   ],
   "source": [
    "# Convert the similarity matrix to a distance matrix\n",
    "distance_matrix = 1 - similarity_matrix\n",
    "\n",
    "# Output the distance matrix\n",
    "print(\"Distance Matrix for documents:\")\n",
    "print(distance_matrix)"
   ]
  },
  {
   "cell_type": "markdown",
   "metadata": {},
   "source": [
    "# Inter-topic Distance Visualization\n",
    "\n",
    "Creating inter-topic distance maps helps in visualizing the distance between topics. This can be done using tools like t-SNE (t-distributed Stochastic Neighbor Embedding) or multidimensional scaling (MDS) to project high-dimensional topic vectors into a 2D or 3D space. A well-separated set of topics indicates that the LDA model has generated distinct topics.\n"
   ]
  },
  {
   "cell_type": "code",
   "execution_count": 80,
   "metadata": {},
   "outputs": [
    {
     "data": {
      "image/png": "[encoded data removed]",
      "text/plain": [
       "<Figure size 1000x700 with 1 Axes>"
      ]
     },
     "metadata": {},
     "output_type": "display_data"
    }
   ],
   "source": [
    "import numpy as np\n",
    "import matplotlib.pyplot as plt\n",
    "from sklearn.manifold import TSNE\n",
    "from gensim import corpora\n",
    "from gensim.models import LdaModel\n",
    "from sklearn.metrics.pairwise import cosine_distances\n",
    "\n",
    "# Assuming lda_model and dictionary have already been created\n",
    "\n",
    "# Extract topic vectors\n",
    "topic_vectors = []\n",
    "for topic_id in range(lda_model.num_topics):\n",
    "    topic_terms = lda_model.get_topic_terms(topic_id, topn=len(dictionary))\n",
    "    topic_vector = np.zeros(len(dictionary))\n",
    "    for term_id, value in topic_terms:\n",
    "        topic_vector[term_id] = value\n",
    "    topic_vectors.append(topic_vector)\n",
    "\n",
    "topic_vectors = np.array(topic_vectors)\n",
    "\n",
    "# Compute pairwise cosine distances\n",
    "topic_distance_matrix = cosine_distances(topic_vectors)\n",
    "\n",
    "# Visualize the distances indirectly using t-SNE embeddings\n",
    "tsne = TSNE(n_components=2, perplexity=5, random_state=42)\n",
    "tsne_embedding = tsne.fit_transform(topic_vectors)\n",
    "\n",
    "# Compute pairwise distances between t-SNE embeddings\n",
    "tsne_distance_matrix = cosine_distances(tsne_embedding)\n",
    "\n",
    "# Plot t-SNE embeddings with distances based on transformed coordinates\n",
    "plt.figure(figsize=(10, 7))\n",
    "plt.scatter(tsne_embedding[:, 0], tsne_embedding[:, 1])\n",
    "\n",
    "for i, (x, y) in enumerate(tsne_embedding):\n",
    "    plt.text(x, y, str(i), fontsize=12)\n",
    "plt.xlabel('TSNE Component 1')\n",
    "plt.ylabel('TSNE Component 2')\n",
    "plt.title('Inter-topic Distance Visualization (t-SNE)')\n",
    "plt.show()\n",
    "\n"
   ]
  },
  {
   "cell_type": "markdown",
   "metadata": {},
   "source": [
    "## Average Topic Coherence:\n",
    "Topic coherence measures the semantic similarity between the high-probability words in a topic. By computing the pairwise distances (e.g., cosine distance) between the word vectors in a topic, you can assess how coherent each topic is. Topics with high coherence scores indicate that the words within the topic are closely related in meaning, which suggests a well-performing LDA model.\n",
    "\n",
    "To compute topic coherence scores in Python, particularly using Gensim, you can follow these steps. \n",
    "\n",
    "1. Extract Topic Terms: Retrieve the top words for each topic from the LDA model.\n",
    "2. Build Word Embeddings: Use a pre-trained word embedding model (like Word2Vec or FastText) to represent each word as a dense vector.\n",
    "3. Compute Pairwise Word Similarities: Calculate pairwise similarities (e.g., cosine similarity) between all word vectors within each topic.\n",
    "4. Aggregate and Compute Coherence Score: Average these pairwise similarities to get a coherence score for each topic. Higher scores indicate more coherent topics.\n"
   ]
  },
  {
   "cell_type": "code",
   "execution_count": 89,
   "metadata": {},
   "outputs": [
    {
     "name": "stdout",
     "output_type": "stream",
     "text": [
      "Topic 13: Coherence Score = 0.7271\n",
      "Topic 28: Coherence Score = 0.7271\n",
      "Topic 41: Coherence Score = 0.7271\n",
      "Topic 54: Coherence Score = 0.7271\n",
      "Topic 46: Coherence Score = 0.7723\n",
      "Topic 26: Coherence Score = 0.8333\n",
      "Topic 1: Coherence Score = 0.9228\n",
      "Topic 39: Coherence Score = 0.9324\n"
     ]
    }
   ],
   "source": [
    "from gensim import corpora\n",
    "from gensim.models import LdaModel\n",
    "from gensim.models import Word2Vec\n",
    "from sklearn.metrics.pairwise import cosine_similarity\n",
    "import numpy as np\n",
    "\n",
    "# Assuming you have already trained an LDA model and have a dictionary\n",
    "\n",
    "# Step 1: Extract topic terms from LDA model\n",
    "def get_topic_terms(lda_model, num_words=10):\n",
    "    topic_terms = []\n",
    "    for topic_id in range(lda_model.num_topics):\n",
    "        topic_terms.append([term for term, _ in lda_model.show_topic(topic_id, topn=num_words)])\n",
    "    return topic_terms\n",
    "\n",
    "# Step 2: Load or train a Word2Vec model on your corpus\n",
    "# Example of training a Word2Vec model (replace with your actual corpus)\n",
    "# Ensure that `clean_text` is a list of tokenized sentences\n",
    "sentences = clean_text  # Assuming `clean_text` is already tokenized\n",
    "\n",
    "word2vec_model = Word2Vec(sentences=sentences, vector_size=100, window=5, min_count=1, sg=0)\n",
    "\n",
    "# Step 3: Compute pairwise cosine similarities between words in each topic\n",
    "def compute_topic_coherence(topic_terms, word2vec_model):\n",
    "    coherence_scores = []\n",
    "    for topic in topic_terms:\n",
    "        topic_embeddings = [word2vec_model.wv[word] for word in topic if word in word2vec_model.wv]\n",
    "        if len(topic_embeddings) > 1:\n",
    "            pairwise_cosine_similarities = cosine_similarity(topic_embeddings)\n",
    "            average_similarity = np.mean(pairwise_cosine_similarities[np.triu_indices(len(topic_embeddings), k=1)])\n",
    "            coherence_scores.append(average_similarity)\n",
    "        else:\n",
    "            coherence_scores.append(0)  # If topic has only one word, coherence score is 0\n",
    "    return coherence_scores\n",
    "\n",
    "# Step 4: Calculate coherence scores for each topic\n",
    "topic_terms = get_topic_terms(lda_model, num_words=10)\n",
    "coherence_scores = compute_topic_coherence(topic_terms, word2vec_model)\n",
    "\n",
    "# Combine topic indices with their coherence scores\n",
    "topic_coherence = [(i, score) for i, score in enumerate(coherence_scores)]\n",
    "\n",
    "# Sort topics by coherence score (ascending order)\n",
    "topic_coherence_sorted = sorted(topic_coherence, key=lambda x: x[1])\n",
    "\n",
    "# Set the coherence score threshold\n",
    "threshold = 0.95\n",
    "\n",
    "# Print coherence scores for topics below the threshold\n",
    "for topic_id, score in topic_coherence_sorted:\n",
    "    if score < threshold:\n",
    "        print(f\"Topic {topic_id}: Coherence Score = {score:.4f}\")"
   ]
  },
  {
   "cell_type": "markdown",
   "metadata": {},
   "source": [
    "# Intra-topic Distance:\n",
    "Evaluating the distance between words within a single topic can also provide insights. Low intra-topic distances suggest that the words within a topic are closely related, indicating a more coherent and meaningful topic.\n",
    "\n",
    "To evaluate the intra-topic distance for each topic in an LDA model, you can follow these steps:\n",
    "\n",
    "1. Compute Word Vectors: Use a pre-trained word embedding model (like Word2Vec) to get the vector representations of these words.\n",
    "2. Calculate Intra-topic Distances: Compute the pairwise distances (e.g., cosine distances) between the word vectors within each topic.\n",
    "3. Evaluate and Print Intra-topic Distance: Calculate the average distance within each topic and use this to assess topic coherence.\n"
   ]
  },
  {
   "cell_type": "code",
   "execution_count": 97,
   "metadata": {},
   "outputs": [
    {
     "name": "stdout",
     "output_type": "stream",
     "text": [
      "Topic 13: Coherence Score = 0.2729\n",
      "Topic 28: Coherence Score = 0.2729\n",
      "Topic 41: Coherence Score = 0.2729\n",
      "Topic 54: Coherence Score = 0.2729\n",
      "Topic 46: Coherence Score = 0.2277\n",
      "Topic 26: Coherence Score = 0.1667\n"
     ]
    }
   ],
   "source": [
    "from gensim import corpora\n",
    "from gensim.models import LdaModel, Word2Vec\n",
    "from sklearn.metrics.pairwise import cosine_distances\n",
    "import numpy as np\n",
    "\n",
    "# Assuming you have already trained an LDA model and have a dictionary\n",
    "\n",
    "# Step 1: Extract topic terms from LDA model\n",
    "def get_topic_terms(lda_model, num_words=10):\n",
    "    topic_terms = []\n",
    "    for topic_id in range(lda_model.num_topics):\n",
    "        topic_terms.append([term for term, _ in lda_model.show_topic(topic_id, topn=num_words)])\n",
    "    return topic_terms\n",
    "\n",
    "# Step 2: Load or train a Word2Vec model on your corpus\n",
    "sentences = clean_text  # Assuming `clean_text` is already tokenized\n",
    "word2vec_model = Word2Vec(sentences=sentences, vector_size=100, window=5, min_count=1, sg=0)\n",
    "\n",
    "# Step 3: Compute intra-topic distances\n",
    "def compute_intra_topic_distances(topic_terms, word2vec_model):\n",
    "    intra_topic_distances = []\n",
    "    for topic in topic_terms:\n",
    "        topic_embeddings = [word2vec_model.wv[word] for word in topic if word in word2vec_model.wv]\n",
    "        if len(topic_embeddings) > 1:\n",
    "            pairwise_cosine_distances = cosine_distances(topic_embeddings)\n",
    "            average_distance = np.mean(pairwise_cosine_distances[np.triu_indices(len(topic_embeddings), k=1)])\n",
    "            intra_topic_distances.append(average_distance)\n",
    "        else:\n",
    "            intra_topic_distances.append(0)  # If topic has only one word, distance is 0\n",
    "    return intra_topic_distances\n",
    "\n",
    "# Step 4: Calculate intra-topic distances for each topic\n",
    "topic_terms = get_topic_terms(lda_model, num_words=10)\n",
    "intra_topic_distances = compute_intra_topic_distances(topic_terms, word2vec_model)\n",
    "\n",
    "# Step 5: Combine topic indices with their distances\n",
    "topic_distances = [(i, distance) for i, distance in enumerate(intra_topic_distances)]\n",
    "\n",
    "# Step 6: Sort topics by intra-topic distance (ascending order)\n",
    "topic_distances_sorted = sorted(topic_distances, key=lambda x: x[1], reverse=True)\n",
    "\n",
    "# Set the intra-topic distance score threshold\n",
    "threshold = 0.1\n",
    "\n",
    "# Print coherence scores for topics below the threshold\n",
    "for topic_id, score in topic_distances_sorted:\n",
    "    if score > threshold:\n",
    "        print(f\"Topic {topic_id}: Coherence Score = {score:.4f}\")\n"
   ]
  }
 ],
 "metadata": {
  "kernelspec": {
   "display_name": "base",
   "language": "python",
   "name": "python3"
  },
  "language_info": {
   "codemirror_mode": {
    "name": "ipython",
    "version": 3
   },
   "file_extension": ".py",
   "mimetype": "text/x-python",
   "name": "python",
   "nbconvert_exporter": "python",
   "pygments_lexer": "ipython3",
   "version": "3.11.5"
  }
 },
 "nbformat": 4,
 "nbformat_minor": 2
}
