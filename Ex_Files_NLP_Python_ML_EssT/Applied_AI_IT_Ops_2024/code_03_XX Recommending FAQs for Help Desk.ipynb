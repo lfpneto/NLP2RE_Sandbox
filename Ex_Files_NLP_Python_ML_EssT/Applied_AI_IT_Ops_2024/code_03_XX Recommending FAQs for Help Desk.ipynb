{
 "cells": [
  {
   "cell_type": "markdown",
   "metadata": {},
   "source": [
    "# 03. Self-Service Help Desk\n",
    "\n"
   ]
  },
  {
   "cell_type": "code",
   "execution_count": 1,
   "metadata": {},
   "outputs": [
    {
     "name": "stdout",
     "output_type": "stream",
     "text": [
      "Collecting package metadata (current_repodata.json): ...working... done\n",
      "Solving environment: ...working... unsuccessful initial attempt using frozen solve. Retrying with flexible solve.\n",
      "Solving environment: ...working... unsuccessful attempt using repodata from current_repodata.json, retrying with next repodata source.\n",
      "Collecting package metadata (repodata.json): ...working... done\n",
      "Solving environment: ...working... unsuccessful initial attempt using frozen solve. Retrying with flexible solve.\n",
      "Solving environment: ...working... \n",
      "Found conflicts! Looking for incompatible packages.\n",
      "This can take several minutes.  Press CTRL-C to abort.\n",
      "failed\n"
     ]
    },
    {
     "name": "stderr",
     "output_type": "stream",
     "text": [
      "\n",
      "Building graph of deps:   0%|          | 0/8 [00:00<?, ?it/s]\n",
      "Examining gensim:   0%|          | 0/8 [00:00<?, ?it/s]      \n",
      "Examining python=3.11:  12%|█▎        | 1/8 [00:02<00:15,  2.21s/it]\n",
      "Examining python=3.11:  25%|██▌       | 2/8 [00:02<00:06,  1.11s/it]\n",
      "Examining @/win-64::__cuda==12.0=0:  25%|██▌       | 2/8 [00:02<00:06,  1.11s/it]\n",
      "Examining @/win-64::__cuda==12.0=0:  38%|███▊      | 3/8 [00:02<00:03,  1.44it/s]\n",
      "Examining @/win-64::__archspec==1=x86_64:  38%|███▊      | 3/8 [00:02<00:03,  1.44it/s]\n",
      "Examining pandas:  50%|█████     | 4/8 [00:02<00:02,  1.44it/s]                        \n",
      "Examining tensorflow:  62%|██████▎   | 5/8 [00:08<00:02,  1.44it/s]\n",
      "Examining tensorflow:  75%|███████▌  | 6/8 [00:08<00:02,  1.50s/it]\n",
      "Examining @/win-64::__win==0=0:  75%|███████▌  | 6/8 [00:08<00:02,  1.50s/it]\n",
      "Examining @/win-64::__win==0=0:  88%|████████▊ | 7/8 [00:08<00:01,  1.33s/it]\n",
      "Examining scikit-learn:  88%|████████▊ | 7/8 [00:08<00:01,  1.33s/it]        \n",
      "                                                                     \n",
      "\n",
      "Determining conflicts:   0%|          | 0/8 [00:00<?, ?it/s]\n",
      "Examining conflict for pandas gensim scikit-learn:   0%|          | 0/8 [00:00<?, ?it/s]\n",
      "Examining conflict for gensim python pandas tensorflow scikit-learn:  12%|█▎        | 1/8 [00:26<03:02, 26.05s/it]\n",
      "Examining conflict for gensim python pandas tensorflow scikit-learn:  25%|██▌       | 2/8 [00:26<01:18, 13.02s/it]\n",
      "Examining conflict for tensorflow pandas gensim scikit-learn:  25%|██▌       | 2/8 [00:33<01:18, 13.02s/it]       \n",
      "Examining conflict for tensorflow pandas gensim scikit-learn:  38%|███▊      | 3/8 [00:33<00:53, 10.74s/it]\n",
      "Examining conflict for tensorflow gensim scikit-learn:  38%|███▊      | 3/8 [00:49<00:53, 10.74s/it]       \n",
      "Examining conflict for tensorflow gensim scikit-learn:  50%|█████     | 4/8 [00:49<00:50, 12.62s/it]\n",
      "Examining conflict for gensim scikit-learn:  50%|█████     | 4/8 [00:57<00:50, 12.62s/it]           \n",
      "Examining conflict for gensim scikit-learn:  62%|██████▎   | 5/8 [00:57<00:33, 11.09s/it]\n",
      "Examining conflict for pandas gensim python scikit-learn:  62%|██████▎   | 5/8 [01:02<00:33, 11.09s/it]\n",
      "Examining conflict for pandas gensim python scikit-learn:  75%|███████▌  | 6/8 [01:02<00:17,  8.95s/it]\n",
      "Examining conflict for tensorflow gensim python:  75%|███████▌  | 6/8 [01:07<00:17,  8.95s/it]         \n",
      "Examining conflict for tensorflow gensim python:  88%|████████▊ | 7/8 [01:07<00:07,  7.80s/it]\n",
      "Examining conflict for tensorflow gensim python scikit-learn:  88%|████████▊ | 7/8 [01:13<00:07,  7.80s/it]\n",
      "Examining conflict for tensorflow gensim python scikit-learn: 100%|██████████| 8/8 [01:13<00:00,  7.05s/it]\n",
      "Examining conflict for tensorflow python: 100%|██████████| 8/8 [01:19<00:00,  7.05s/it]                    \n",
      "Examining conflict for tensorflow python: : 9it [01:19,  6.91s/it]                     \n",
      "Examining conflict for pandas tensorflow python: : 9it [01:35,  6.91s/it]\n",
      "Examining conflict for pandas tensorflow python: : 10it [01:35,  9.69s/it]\n",
      "                                                                          \n",
      "\n",
      "UnsatisfiableError: The following specifications were found\n",
      "to be incompatible with the existing python installation in your environment:\n",
      "\n",
      "Specifications:\n",
      "\n",
      "  - tensorflow -> python[version='3.10.*|3.9.*|3.8.*|3.7.*|3.6.*|3.5.*']\n",
      "\n",
      "Your python: python=3.11\n",
      "\n",
      "If python is on the left-most side of the chain, that's the version you've asked for.\n",
      "When python appears to the right, that indicates that the thing on the left is somehow\n",
      "not available for the python version you are constrained to. Note that conda will not\n",
      "change your python version to a different minor version unless you explicitly specify\n",
      "that.\n",
      "\n",
      "The following specifications were found to be incompatible with each other:\n",
      "\n",
      "Output in format: Requested package -> Available versions\n",
      "\n",
      "Package ca-certificates conflicts for:\n",
      "gensim -> python[version='>=2.7,<2.8.0a0'] -> ca-certificates\n",
      "pandas -> python[version='>=2.7,<2.8.0a0'] -> ca-certificates\n",
      "python=3.11 -> openssl[version='>=3.0.12,<4.0a0'] -> ca-certificates\n",
      "scikit-learn -> python[version='>=2.7,<2.8.0a0'] -> ca-certificates\n",
      "\n",
      "Package numpy-base conflicts for:\n",
      "pandas -> numpy[version='>=1.23.5,<2.0a0'] -> numpy-base[version='1.11.3|1.11.3|1.11.3|1.11.3|1.11.3|1.11.3|1.11.3|1.11.3|1.11.3|1.11.3|1.11.3|1.11.3|1.11.3|1.11.3|1.11.3|1.11.3|1.11.3|1.11.3|1.11.3|1.11.3|1.11.3|1.11.3|1.11.3|1.11.3|1.11.3|1.11.3|1.11.3|1.11.3|1.14.3|1.14.3|1.14.3|1.14.4|1.14.4|1.14.4|1.14.5|1.14.5|1.14.5|1.14.5|1.14.5|1.14.5|1.14.5|1.14.5|1.14.5|1.14.5|1.14.5|1.14.5|1.14.5|1.14.5|1.14.5|1.14.5|1.14.5|1.14.6|1.14.6|1.14.6|1.14.6|1.14.6|1.14.6|1.14.6|1.14.6|1.15.0|1.15.0|1.15.0|1.15.0|1.15.1|1.15.1|1.15.1|1.15.1|1.15.2|1.15.2|1.15.2|1.15.2|1.15.2|1.15.3|1.15.3|1.15.3|1.15.4|1.15.4|1.15.4|1.15.4|1.15.4|1.15.4|1.16.0|1.16.0|1.16.0|1.16.0|1.16.0|1.16.0|1.16.1|1.16.1|1.16.1|1.16.1|1.16.1|1.16.1|1.16.2|1.16.2|1.16.2|1.16.3|1.16.3|1.16.3|1.16.4|1.16.4|1.16.5|1.16.5|1.16.5|1.16.6|1.16.6|1.16.6|1.16.6|1.16.6|1.16.6|1.16.6|1.16.6|1.16.6|1.16.6|1.16.6|1.16.6|1.16.6|1.16.6|1.17.2.*|1.17.3.*|1.17.4.*|1.18.1.*|1.18.5.*|1.19.1|1.19.1|1.19.1|1.19.2|1.19.2|1.19.2|1.19.2|1.19.2|1.19.2|1.19.2|1.19.5|1.19.5|1.19.5|1.19.5|1.19.5|1.20.1|1.20.1|1.20.1|1.20.2|1.20.2|1.20.2|1.20.3|1.20.3|1.20.3|1.20.3|1.20.3|1.21.2|1.21.2|1.21.2|1.21.2|1.21.5|1.21.5|1.21.5|1.21.5|1.21.5|1.21.5|1.21.5|1.21.5|1.21.5|1.21.5|1.21.5|1.21.5|1.21.5|1.21.5|1.21.5|1.21.5|1.21.5|1.21.5|1.21.5|1.22.3|1.22.3|1.22.3|1.22.3|1.22.3|1.22.3|1.22.3|1.23.1|1.23.1|1.23.1|1.23.3|1.23.3|1.23.3|1.23.3|1.23.3|1.23.3|1.23.4|1.23.4|1.23.4|1.23.5|1.23.5|1.23.5|1.23.5|1.23.5|1.23.5|1.23.5|1.23.5|1.24.3|1.24.3|1.24.3|1.24.3|1.24.3|1.24.3|1.24.3|1.24.3|1.25.0|1.25.0|1.25.0|1.25.2|1.25.2|1.25.2|1.26.0|1.26.0|1.26.0|1.26.0|1.26.2|1.26.2|1.26.2|1.26.2|1.26.3|1.17.0|1.17.0|>=1.17.3,<2.0a0|1.9.3|1.9.3|1.9.3|1.9.3|1.9.3|1.9.3|1.9.3|>=1.9.3,<2.0a0',build='py37h5c71026_6|py27h0bb1d87_6|py27h0bb1d87_7|py36h5c71026_7|py37h5c71026_7|py35h5c71026_7|py27h0bb1d87_7|py36h5c71026_7|py37h5c71026_7|py36h5c71026_8|py27h0bb1d87_8|py35h4a99626_8|py35h4a99626_9|py27hfef472a_9|py36h8128ebf_10|py37h8128ebf_10|py36h8128ebf_11|py27hb1d0314_11|py37hc3f5095_12|py27hb1d0314_12|py35h5c71026_0|py36h5c71026_0|py35h5c71026_0|py27h0bb1d87_0|py36h5c71026_1|py36h5c71026_2|py36h5c71026_3|py27h0bb1d87_4|py37h5c71026_4|py27h2753ae9_4|py35h8128ebf_4|py38hc3f5095_4|py37hc3f5095_5|py27hb1d0314_5|py36h4a99626_0|py27hfef472a_0|py37h4a99626_0|py37h8128ebf_0|py37h8128ebf_0|py37h8128ebf_0|py37h8128ebf_0|py36h8128ebf_0|py27hb1d0314_0|py37hc3f5095_0|py37hc3f5095_0|py36hc3f5095_0|py37hc3f5095_0|py27hb1d0314_0|py36hc3f5095_0|py36hc3f5095_1|py27hb1d0314_1|py27hb1d0314_0|py37hc3f5095_0|py36hc3f5095_1|py27hb1d0314_1|py27hb1d0314_0|py37hc3f5095_0|py36hc3f5095_0|py37hc3f5095_0|py36hc3f5095_0|py27hb1d0314_0|py37hc3f5095_0|py36hc3f5095_0|py27hb1d0314_0|py37hc3f5095_0|py36hc3f5095_0|py37hc3f5095_0|py38hc3f5095_0|py27hb1d0314_0|py39h5bb6eb2_3|py36h5bb6eb2_3|py38h5bb6eb2_3|py39h378b42e_4|py37h378b42e_4|py39h9413944_5|py37ha3acd2a_0|py39h5bb6eb2_1|py38h5bb6eb2_1|py37h46fa6a1_4|py39h9413944_5|py37haf7ebc8_0|py38haf7ebc8_0|py38hc2deb75_0|py37hc2deb75_0|py38hc2deb75_0|py39hc2deb75_0|py39h0829f74_0|py310h0829f74_0|py39hc2deb75_0|py38hc2deb75_0|py37hc2deb75_0|py37hca35cd5_1|py39hca35cd5_1|py39hca35cd5_2|py310h206c741_2|py37hca35cd5_2|py39hca35cd5_3|py39h46c4fa8_4|py39hca35cd5_0|py311h0424125_1|py38hca35cd5_0|py39hca35cd5_0|py39h4da318b_1|py311h0424125_0|py311h4cfcc17_1|py310hb5c95e7_1|py38h005ec55_0|py311h877bb12_0|py311hd01c5d8_1|py39h65a83cf_0|py39h65a83cf_0|py311hd01c5d8_0|py39h65a83cf_0|py312h4dde369_0|py312h4dde369_0|py39h65a83cf_0|py312h4dde369_0|py39h65a83cf_0|py311hd01c5d8_0|py310h65a83cf_0|py310h65a83cf_0|py311hd01c5d8_0|py310h65a83cf_0|py311hd01c5d8_0|py310h65a83cf_0|py311hd01c5d8_0|py310h65a83cf_0|py38h8a87ada_1|py39h8a87ada_1|py310h65a83cf_1|py310h3caf3d7_0|py39h005ec55_0|py39h46c4fa8_1|py38h46c4fa8_1|py310h04254f7_0|py38h4da318b_0|py39h4da318b_0|py310h04254f7_0|py39h4da318b_0|py38h4da318b_0|py38h4da318b_1|py310h04254f7_1|py310h04254f7_0|py39h4da318b_0|py38h4da318b_0|py310h206c741_0|py39h46c4fa8_2|py38h46c4fa8_2|py310hb5c95e7_2|py38hca35cd5_0|py310h206c741_0|py38h46c4fa8_4|py310hb5c95e7_4|py310h206c741_3|py38hca35cd5_3|py37hca35cd5_3|py38hca35cd5_2|py310h206c741_1|py38hca35cd5_1|py310hedd7904_0|py37h0829f74_0|py38h0829f74_0|py38h5bfbeaa_1|py39h5bfbeaa_1|py39hc2deb75_0|py37hc2deb75_0|py39haf7ebc8_0|py38h9413944_5|py39h46fa6a1_4|py38h46fa6a1_4|py37h5bb6eb2_1|py39hbd0edd7_0|py36ha3acd2a_0|py38ha3acd2a_0|py36ha3acd2a_0|py37ha3acd2a_0|py38ha3acd2a_0|py38h9413944_5|py38h378b42e_4|py37h5bb6eb2_3|py39h2e04a8b_1|py36hc3f5095_0|py37hc3f5095_1|py36hc3f5095_0|py37hc3f5095_1|py36hc3f5095_0|py27h2753ae9_0|py27h2753ae9_0|py36h8128ebf_0|py27h2753ae9_1|py36h8128ebf_0|py27h2753ae9_0|py35h8128ebf_0|py36h8128ebf_0|py27h2753ae9_0|py35h8128ebf_0|py35h4a99626_0|py36hc3f5095_5|py37h8128ebf_4|py36h8128ebf_4|py35h4a99626_4|py36h5c71026_4|py37h5c71026_3|py27h0bb1d87_3|py27h0bb1d87_2|py37h5c71026_2|py37h5c71026_1|py27h0bb1d87_1|py37h5c71026_0|py36h5c71026_0|py27h0bb1d87_0|py27h917549b_1|py36h555522e_1|py35h555522e_1|py38hc3f5095_12|py36hc3f5095_12|py36h2a9b21d_11|py37h2a9b21d_11|py37h8128ebf_11|py27h2753ae9_10|py35h8128ebf_10|py27h2753ae9_9|py35h8128ebf_9|py36h8128ebf_9|py37h8128ebf_9|py37h4a99626_9|py36h4a99626_9|py37h5c71026_8|py36h5c71026_6']\n",
      "gensim -> numpy[version='>=1.26.0,<2.0a0'] -> numpy-base[version='1.11.3|1.11.3|1.11.3|1.11.3|1.11.3|1.11.3|1.11.3|1.11.3|1.11.3|1.11.3|1.11.3|1.11.3|1.11.3|1.11.3|1.11.3|1.11.3|1.11.3|1.11.3|1.11.3|1.11.3|1.11.3|1.11.3|1.11.3|1.11.3|1.11.3|1.11.3|1.11.3|1.11.3|1.14.3|1.14.3|1.14.3|1.14.4|1.14.4|1.14.4|1.14.5|1.14.5|1.14.5|1.14.5|1.14.5|1.14.5|1.14.5|1.14.5|1.14.5|1.14.5|1.14.5|1.14.5|1.14.5|1.14.5|1.14.5|1.14.5|1.14.5|1.14.6|1.14.6|1.14.6|1.14.6|1.14.6|1.14.6|1.14.6|1.14.6|1.15.0|1.15.0|1.15.0|1.15.0|1.15.1|1.15.1|1.15.1|1.15.1|1.15.2|1.15.2|1.15.2|1.15.2|1.15.2|1.15.3|1.15.3|1.15.3|1.15.4|1.15.4|1.15.4|1.15.4|1.15.4|1.15.4|1.16.0|1.16.0|1.16.0|1.16.0|1.16.0|1.16.0|1.16.1|1.16.1|1.16.1|1.16.1|1.16.1|1.16.1|1.16.2|1.16.2|1.16.2|1.16.3|1.16.3|1.16.3|1.16.4|1.16.4|1.16.5|1.16.5|1.16.5|1.16.6|1.16.6|1.16.6|1.16.6|1.16.6|1.16.6|1.16.6|1.16.6|1.16.6|1.16.6|1.16.6|1.16.6|1.16.6|1.16.6|1.17.0|1.17.0|1.17.2.*|1.17.3.*|1.17.4.*|1.18.1.*|1.18.5.*|1.19.1|1.19.1|1.19.1|1.19.2|1.19.2|1.19.2|1.19.2|1.19.2|1.19.2|1.19.2|1.19.5|1.19.5|1.19.5|1.19.5|1.19.5|1.20.1|1.20.1|1.20.1|1.20.2|1.20.2|1.20.2|1.20.3|1.20.3|1.20.3|1.20.3|1.20.3|1.21.2|1.21.2|1.21.2|1.21.2|1.21.5|1.21.5|1.21.5|1.21.5|1.21.5|1.21.5|1.21.5|1.21.5|1.21.5|1.21.5|1.21.5|1.21.5|1.21.5|1.21.5|1.21.5|1.21.5|1.21.5|1.21.5|1.21.5|1.22.3|1.22.3|1.22.3|1.22.3|1.22.3|1.22.3|1.22.3|1.23.1|1.23.1|1.23.1|1.23.3|1.23.3|1.23.3|1.23.3|1.23.3|1.23.3|1.23.4|1.23.4|1.23.4|1.23.5|1.23.5|1.23.5|1.23.5|1.23.5|1.23.5|1.23.5|1.23.5|1.24.3|1.24.3|1.24.3|1.24.3|1.24.3|1.24.3|1.24.3|1.24.3|1.25.0|1.25.0|1.25.0|1.25.2|1.25.2|1.25.2|1.26.0|1.26.0|1.26.0|1.26.0|1.26.2|1.26.2|1.26.2|1.26.2|1.26.3',build='py27h0bb1d87_7|py36h5c71026_7|py37h5c71026_7|py36h5c71026_8|py35h4a99626_8|py35h4a99626_9|py27hfef472a_9|py35h8128ebf_10|py36h8128ebf_10|py27h2753ae9_10|py36h8128ebf_11|py37h8128ebf_11|py27hb1d0314_11|py37hc3f5095_12|py36h555522e_1|py27h917549b_1|py36h5c71026_0|py35h5c71026_0|py36h5c71026_1|py36h5c71026_2|py27h0bb1d87_2|py27h0bb1d87_4|py36h8128ebf_4|py37h8128ebf_4|py27h2753ae9_4|py35h8128ebf_4|py38hc3f5095_4|py37hc3f5095_5|py27hb1d0314_5|py37h4a99626_0|py37h8128ebf_0|py36h8128ebf_0|py37h8128ebf_0|py37h8128ebf_0|py27hb1d0314_0|py37hc3f5095_0|py37hc3f5095_0|py36hc3f5095_1|py27hb1d0314_1|py27hb1d0314_0|py37hc3f5095_0|py36hc3f5095_1|py27hb1d0314_1|py27hb1d0314_0|py37hc3f5095_0|py37hc3f5095_0|py27hb1d0314_0|py37hc3f5095_0|py36hc3f5095_0|py27hb1d0314_0|py37hc3f5095_0|py36hc3f5095_0|py37hc3f5095_0|py27hb1d0314_0|py36h5bb6eb2_3|py38h5bb6eb2_3|py37h378b42e_4|py39h9413944_5|py37hc3f5095_0|py37ha3acd2a_0|py39h5bb6eb2_1|py38h5bb6eb2_1|py37h46fa6a1_4|py39h9413944_5|py37haf7ebc8_0|py38haf7ebc8_0|py38hc2deb75_0|py37hc2deb75_0|py38hc2deb75_0|py39hc2deb75_0|py39h0829f74_0|py310h0829f74_0|py39hc2deb75_0|py38hc2deb75_0|py37hc2deb75_0|py37hca35cd5_1|py39hca35cd5_1|py39hca35cd5_2|py310h206c741_2|py37hca35cd5_2|py39hca35cd5_3|py39h46c4fa8_4|py39hca35cd5_0|py311h0424125_1|py38hca35cd5_0|py39hca35cd5_0|py39h4da318b_1|py311h0424125_0|py311h4cfcc17_1|py310hb5c95e7_1|py38h005ec55_0|py311h877bb12_0|py311hd01c5d8_1|py39h65a83cf_0|py39h65a83cf_0|py311hd01c5d8_0|py39h65a83cf_0|py312h4dde369_0|py312h4dde369_0|py39h65a83cf_0|py312h4dde369_0|py39h65a83cf_0|py311hd01c5d8_0|py310h65a83cf_0|py310h65a83cf_0|py311hd01c5d8_0|py310h65a83cf_0|py311hd01c5d8_0|py310h65a83cf_0|py311hd01c5d8_0|py310h65a83cf_0|py38h8a87ada_1|py39h8a87ada_1|py310h65a83cf_1|py310h3caf3d7_0|py39h005ec55_0|py39h46c4fa8_1|py38h46c4fa8_1|py310h04254f7_0|py38h4da318b_0|py39h4da318b_0|py310h04254f7_0|py39h4da318b_0|py38h4da318b_0|py38h4da318b_1|py310h04254f7_1|py310h04254f7_0|py39h4da318b_0|py38h4da318b_0|py310h206c741_0|py39h46c4fa8_2|py38h46c4fa8_2|py310hb5c95e7_2|py38hca35cd5_0|py310h206c741_0|py38h46c4fa8_4|py310hb5c95e7_4|py310h206c741_3|py38hca35cd5_3|py37hca35cd5_3|py38hca35cd5_2|py310h206c741_1|py38hca35cd5_1|py310hedd7904_0|py37h0829f74_0|py38h0829f74_0|py38h5bfbeaa_1|py39h5bfbeaa_1|py39hc2deb75_0|py37hc2deb75_0|py39haf7ebc8_0|py38h9413944_5|py39h46fa6a1_4|py38h46fa6a1_4|py37h5bb6eb2_1|py39hbd0edd7_0|py36ha3acd2a_0|py38ha3acd2a_0|py36ha3acd2a_0|py37ha3acd2a_0|py38ha3acd2a_0|py36hc3f5095_0|py38h9413944_5|py39h378b42e_4|py38h378b42e_4|py39h5bb6eb2_3|py37h5bb6eb2_3|py39h2e04a8b_1|py38hc3f5095_0|py36hc3f5095_0|py36hc3f5095_0|py36hc3f5095_0|py37hc3f5095_1|py36hc3f5095_0|py37hc3f5095_1|py36hc3f5095_0|py27hb1d0314_0|py36hc3f5095_0|py27h2753ae9_0|py36h8128ebf_0|py37h8128ebf_0|py27h2753ae9_0|py36h8128ebf_0|py27h2753ae9_1|py27h2753ae9_0|py35h8128ebf_0|py36h8128ebf_0|py27h2753ae9_0|py35h8128ebf_0|py27hfef472a_0|py36h4a99626_0|py35h4a99626_0|py36hc3f5095_5|py35h4a99626_4|py36h5c71026_4|py37h5c71026_4|py37h5c71026_3|py36h5c71026_3|py27h0bb1d87_3|py37h5c71026_2|py37h5c71026_1|py27h0bb1d87_1|py37h5c71026_0|py36h5c71026_0|py27h0bb1d87_0|py27h0bb1d87_0|py35h5c71026_0|py35h555522e_1|py38hc3f5095_12|py36hc3f5095_12|py27hb1d0314_12|py36h2a9b21d_11|py37h2a9b21d_11|py37h8128ebf_10|py27h2753ae9_9|py35h8128ebf_9|py36h8128ebf_9|py37h8128ebf_9|py37h4a99626_9|py36h4a99626_9|py27h0bb1d87_8|py37h5c71026_8']\n",
      "scikit-learn -> numpy[version='>=1.26.0,<2.0a0'] -> numpy-base[version='1.11.3|1.11.3|1.11.3|1.11.3|1.11.3|1.11.3|1.11.3|1.11.3|1.11.3|1.11.3|1.11.3|1.11.3|1.11.3|1.11.3|1.11.3|1.11.3|1.11.3|1.11.3|1.11.3|1.11.3|1.11.3|1.11.3|1.11.3|1.11.3|1.11.3|1.11.3|1.11.3|1.11.3|1.14.3|1.14.3|1.14.3|1.14.4|1.14.4|1.14.4|1.14.5|1.14.5|1.14.5|1.14.5|1.14.5|1.14.5|1.14.5|1.14.5|1.14.5|1.14.5|1.14.5|1.14.5|1.14.5|1.14.5|1.14.5|1.14.5|1.14.5|1.14.6|1.14.6|1.14.6|1.14.6|1.14.6|1.14.6|1.14.6|1.14.6|1.15.0|1.15.0|1.15.0|1.15.0|1.15.1|1.15.1|1.15.1|1.15.1|1.15.2|1.15.2|1.15.2|1.15.2|1.15.2|1.15.3|1.15.3|1.15.3|1.15.4|1.15.4|1.15.4|1.15.4|1.15.4|1.15.4|1.16.0|1.16.0|1.16.0|1.16.0|1.16.0|1.16.0|1.16.1|1.16.1|1.16.1|1.16.1|1.16.1|1.16.1|1.16.2|1.16.2|1.16.2|1.16.3|1.16.3|1.16.3|1.16.4|1.16.4|1.16.5|1.16.5|1.16.5|1.16.6|1.16.6|1.16.6|1.16.6|1.16.6|1.16.6|1.16.6|1.16.6|1.16.6|1.16.6|1.16.6|1.16.6|1.16.6|1.16.6|1.17.2.*|1.17.3.*|1.17.4.*|1.18.1.*|1.18.5.*|1.19.1|1.19.1|1.19.1|1.19.2|1.19.2|1.19.2|1.19.2|1.19.2|1.19.2|1.19.2|1.19.5|1.19.5|1.19.5|1.19.5|1.19.5|1.20.1|1.20.1|1.20.1|1.20.2|1.20.2|1.20.2|1.20.3|1.20.3|1.20.3|1.20.3|1.20.3|1.21.2|1.21.2|1.21.2|1.21.2|1.21.5|1.21.5|1.21.5|1.21.5|1.21.5|1.21.5|1.21.5|1.21.5|1.21.5|1.21.5|1.21.5|1.21.5|1.21.5|1.21.5|1.21.5|1.21.5|1.21.5|1.21.5|1.21.5|1.22.3|1.22.3|1.22.3|1.22.3|1.22.3|1.22.3|1.22.3|1.23.1|1.23.1|1.23.1|1.23.3|1.23.3|1.23.3|1.23.3|1.23.3|1.23.3|1.23.4|1.23.4|1.23.4|1.23.5|1.23.5|1.23.5|1.23.5|1.23.5|1.23.5|1.23.5|1.23.5|1.24.3|1.24.3|1.24.3|1.24.3|1.24.3|1.24.3|1.24.3|1.24.3|1.25.0|1.25.0|1.25.0|1.25.2|1.25.2|1.25.2|1.26.0|1.26.0|1.26.0|1.26.0|1.26.2|1.26.2|1.26.2|1.26.2|1.26.3|1.9.3|1.9.3|1.9.3|1.9.3|1.9.3|1.9.3|1.9.3|>=1.9.3,<2.0a0|1.17.0|1.17.0',build='py37hc3f5095_0|py37h5c71026_6|py27h0bb1d87_6|py27h0bb1d87_7|py36h5c71026_7|py37h5c71026_7|py27h0bb1d87_7|py36h5c71026_7|py36h5c71026_8|py35h4a99626_8|py36h8128ebf_10|py37h8128ebf_10|py27h2753ae9_10|py36h8128ebf_11|py37h8128ebf_11|py36h2a9b21d_11|py27hb1d0314_11|py37hc3f5095_12|py27hb1d0314_12|py36hc3f5095_12|py27h917549b_1|py35h5c71026_0|py36h5c71026_0|py35h5c71026_0|py27h0bb1d87_1|py36h5c71026_1|py37h5c71026_2|py36h5c71026_3|py27h0bb1d87_4|py36h8128ebf_4|py37h8128ebf_4|py27h2753ae9_4|py35h8128ebf_4|py38hc3f5095_4|py37hc3f5095_5|py27hb1d0314_5|py35h4a99626_0|py27hfef472a_0|py37h4a99626_0|py37h8128ebf_0|py27h2753ae9_0|py37h8128ebf_0|py27h2753ae9_1|py37h8128ebf_0|py37h8128ebf_0|py27h2753ae9_0|py36hc3f5095_0|py27hb1d0314_0|py37hc3f5095_0|py37hc3f5095_0|py27hb1d0314_0|py36hc3f5095_0|py36hc3f5095_1|py27hb1d0314_1|py27hb1d0314_0|py37hc3f5095_0|py36hc3f5095_1|py27hb1d0314_1|py27hb1d0314_0|py37hc3f5095_0|py36hc3f5095_0|py37hc3f5095_0|py36hc3f5095_0|py27hb1d0314_0|py37hc3f5095_0|py36hc3f5095_0|py27hb1d0314_0|py37hc3f5095_0|py36hc3f5095_0|py37hc3f5095_0|py38hc3f5095_0|py27hb1d0314_0|py39h5bb6eb2_3|py36h5bb6eb2_3|py38h5bb6eb2_3|py39h378b42e_4|py37h378b42e_4|py39h9413944_5|py37ha3acd2a_0|py39h5bb6eb2_1|py38h5bb6eb2_1|py37h46fa6a1_4|py39h9413944_5|py37haf7ebc8_0|py38haf7ebc8_0|py38hc2deb75_0|py37hc2deb75_0|py38hc2deb75_0|py39hc2deb75_0|py39h0829f74_0|py310h0829f74_0|py39hc2deb75_0|py38hc2deb75_0|py37hc2deb75_0|py37hca35cd5_1|py39hca35cd5_1|py39hca35cd5_2|py310h206c741_2|py37hca35cd5_2|py39hca35cd5_3|py39h46c4fa8_4|py39hca35cd5_0|py311h0424125_1|py38hca35cd5_0|py39hca35cd5_0|py39h4da318b_1|py311h0424125_0|py311h4cfcc17_1|py310hb5c95e7_1|py38h005ec55_0|py311h877bb12_0|py311hd01c5d8_1|py39h65a83cf_0|py39h65a83cf_0|py311hd01c5d8_0|py39h65a83cf_0|py312h4dde369_0|py312h4dde369_0|py39h65a83cf_0|py312h4dde369_0|py39h65a83cf_0|py311hd01c5d8_0|py310h65a83cf_0|py310h65a83cf_0|py311hd01c5d8_0|py310h65a83cf_0|py311hd01c5d8_0|py310h65a83cf_0|py311hd01c5d8_0|py310h65a83cf_0|py38h8a87ada_1|py39h8a87ada_1|py310h65a83cf_1|py310h3caf3d7_0|py39h005ec55_0|py39h46c4fa8_1|py38h46c4fa8_1|py310h04254f7_0|py38h4da318b_0|py39h4da318b_0|py310h04254f7_0|py39h4da318b_0|py38h4da318b_0|py38h4da318b_1|py310h04254f7_1|py310h04254f7_0|py39h4da318b_0|py38h4da318b_0|py310h206c741_0|py39h46c4fa8_2|py38h46c4fa8_2|py310hb5c95e7_2|py38hca35cd5_0|py310h206c741_0|py38h46c4fa8_4|py310hb5c95e7_4|py310h206c741_3|py38hca35cd5_3|py37hca35cd5_3|py38hca35cd5_2|py310h206c741_1|py38hca35cd5_1|py310hedd7904_0|py37h0829f74_0|py38h0829f74_0|py38h5bfbeaa_1|py39h5bfbeaa_1|py39hc2deb75_0|py37hc2deb75_0|py39haf7ebc8_0|py38h9413944_5|py39h46fa6a1_4|py38h46fa6a1_4|py37h5bb6eb2_1|py39hbd0edd7_0|py36ha3acd2a_0|py38ha3acd2a_0|py36ha3acd2a_0|py37ha3acd2a_0|py38ha3acd2a_0|py38h9413944_5|py38h378b42e_4|py37h5bb6eb2_3|py39h2e04a8b_1|py36hc3f5095_0|py37hc3f5095_1|py36hc3f5095_0|py37hc3f5095_1|py36h8128ebf_0|py27h2753ae9_0|py36h8128ebf_0|py36h8128ebf_0|py35h8128ebf_0|py36h8128ebf_0|py27h2753ae9_0|py35h8128ebf_0|py36h4a99626_0|py36hc3f5095_5|py35h4a99626_4|py36h5c71026_4|py37h5c71026_4|py37h5c71026_3|py27h0bb1d87_3|py27h0bb1d87_2|py36h5c71026_2|py37h5c71026_1|py37h5c71026_0|py36h5c71026_0|py27h0bb1d87_0|py27h0bb1d87_0|py36h555522e_1|py35h555522e_1|py38hc3f5095_12|py37h2a9b21d_11|py35h8128ebf_10|py27h2753ae9_9|py35h8128ebf_9|py36h8128ebf_9|py37h8128ebf_9|py27hfef472a_9|py37h4a99626_9|py36h4a99626_9|py35h4a99626_9|py27h0bb1d87_8|py37h5c71026_8|py37h5c71026_7|py35h5c71026_7|py36h5c71026_6|py36hc3f5095_0']\n",
      "\n",
      "Package scipy conflicts for:\n",
      "gensim -> scipy[version='>=0.18.1|>=1.7.0']\n",
      "scikit-learn -> scipy[version='1.10.0.*|>=1.3.2,<1.10.0|>=1.3.2|>=1.5.0|>=1.3.2,<=1.9.3|>=1.1.0|>=0.19.1']\n",
      "tensorflow -> tensorflow-base==2.10.0=eigen_py39he3c91d7_0 -> scipy[version='>=1.4.1|>=1.6.2|>=1.7.1|>=1.7.3|>=1.7.3,<2|>=1.5.2']\n",
      "\n",
      "Package numpy conflicts for:\n",
      "tensorflow -> tensorboard=2.10 -> numpy[version='>=1.12|>=1.12.0|>=1.20,<2|>=1.22.3,<2.0a0|>=1.21.5,<2.0a0|>=1.23.1,<2.0a0|>=1.20|>=1.16.1|>=1.16|>=1.16.6,<2.0a0|>=1.16.5,<2.0a0|>=1.14.6,<2.0a0|>=1.13.3,<2.0a0|>=1.14.2,<2.0a0']\n",
      "pandas -> numpy[version='>=1.11|>=1.11.3,<1.12.0a0|>=1.11.3,<2.0a0|>=1.12.1,<2.0a0|>=1.13.3,<2.0a0|>=1.14.6,<2.0a0|>=1.15.4,<2.0a0|>=1.16,<2.0a0|>=1.20.3,<2.0a0|>=1.21,<2.0a0|>=1.21.5,<2.0a0|>=1.23.5,<2.0a0|>=1.26.2,<2.0a0|>=1.26.0,<2.0a0|>=1.23,<2.0a0|>=1.19.2,<2.0a0|>=1.20.2,<2.0a0|>=1.16.6,<2.0a0|>=1.9']\n",
      "gensim -> numpy[version='>=1.11.3,<2.0a0|>=1.11.3|>=1.17.0,<2.0a0|>=1.19.2,<2.0a0|>=1.22.3,<2.0a0|>=1.26.0,<2.0a0|>=1.21.5,<2.0a0|>=1.16.5,<2.0a0']\n",
      "scikit-learn -> scipy[version='>=1.5.0'] -> numpy[version='>=1.15.1,<2.0a0|>=1.16,<1.23|>=1.19,<1.25.0|>=1.19,<1.26.0|>=1.19.5,<1.27.0|>=1.21,<1.27.0|>=1.21.5,<1.28|>=1.23.5,<1.28|>=1.26.0,<1.28|>=1.23,<1.27.0|>=1.23,<1.26.0|>=1.21,<1.26.0|>=1.21,<1.25.0|>=1.21,<1.23|>=1.21.2,<1.23.0|>=1.16.6,<1.23.0']\n",
      "scikit-learn -> numpy[version='<1.25|>=1.21.5,<2.0a0|>=1.26.0,<2.0a0|>=1.23.5,<2.0a0|>=1.19.5,<2.0a0|>=1.19.2,<2.0a0|>=1.16.6,<2.0a0|>=1.21.2,<2.0a0|>=1.14.6,<2.0a0|>=1.11.3,<2.0a0']\n",
      "pandas -> bottleneck[version='>=1.3.4'] -> numpy[version='>=1.16.3,<2.0a0|>=1.16.4,<2.0a0|>=1.21.2,<2.0a0|>=1.22.3,<2.0a0']\n",
      "gensim -> scipy[version='>=1.7.0'] -> numpy[version='>=1.14.6,<2.0a0|>=1.16,<1.23|>=1.19,<1.25.0|>=1.19,<1.26.0|>=1.19.5,<1.27.0|>=1.21,<1.27.0|>=1.21.5,<1.28|>=1.23.5,<1.28|>=1.26.0,<1.28|>=1.23,<1.27.0|>=1.23,<1.26.0|>=1.21,<1.26.0|>=1.21,<1.25.0|>=1.21,<1.23|>=1.16.6,<2.0a0|>=1.21.2,<1.23.0|>=1.16.6,<1.23.0|>=1.15.1,<2.0a0']\n",
      "\n",
      "Package setuptools conflicts for:\n",
      "python=3.11 -> pip -> setuptools\n",
      "tensorflow -> tensorboard=2.10 -> setuptools[version='>=41.0.0|>=41.4']\n",
      "scikit-learn -> joblib -> setuptools\n",
      "gensim -> cython[version='>=0.29.23'] -> setuptools\n",
      "\n",
      "Package packaging conflicts for:\n",
      "python=3.11 -> pip -> packaging\n",
      "pandas -> numexpr[version='>=2.8.0'] -> packaging\n",
      "tensorflow -> tensorflow-base==2.10.0=eigen_py39he3c91d7_0 -> packaging\n",
      "\n",
      "Package intel-openmp conflicts for:\n",
      "gensim -> scipy[version='>=1.7.0'] -> intel-openmp[version='>=2021.4.0,<2022.0a0|>=2023.1.0,<2024.0a0']\n",
      "scikit-learn -> scipy[version='>=1.5.0'] -> intel-openmp[version='>=2021.4.0,<2022.0a0|>=2023.1.0,<2024.0a0']\n",
      "\n",
      "Package requests conflicts for:\n",
      "python=3.11 -> pip -> requests\n",
      "gensim -> smart_open[version='>=1.8.1'] -> requests\n",
      "tensorflow -> tensorboard=2.10 -> requests[version='>=2.21.0|>=2.21.0,<3']\n",
      "\n",
      "Package html5lib conflicts for:\n",
      "python=3.11 -> pip -> html5lib\n",
      "tensorflow -> tensorboard[version='>=1.8.0,<1.9.0'] -> html5lib==0.9999999\n",
      "\n"
     ]
    },
    {
     "ename": "",
     "evalue": "",
     "output_type": "error",
     "traceback": [
      "\u001b[1;31mThe Kernel crashed while executing code in the the current cell or a previous cell. Please review the code in the cell(s) to identify a possible cause of the failure. Click <a href='https://aka.ms/vscodeJupyterKernelCrash'>here</a> for more info. View Jupyter <a href='command:jupyter.viewOutput'>log</a> for further details."
     ]
    }
   ],
   "source": [
    "#Install all related packages. If you find additional packages missing, please follow the same technique.\n",
    "#If you are not using anaconda, then use pip to install the same packages\n",
    "\n",
    "import sys\n",
    "!conda install --yes --prefix {sys.prefix} pandas tensorflow scikit-learn gensim"
   ]
  },
  {
   "cell_type": "markdown",
   "metadata": {},
   "source": [
    "## 03.04. Building a Document Vector"
   ]
  },
  {
   "cell_type": "code",
   "execution_count": 2,
   "metadata": {},
   "outputs": [
    {
     "name": "stdout",
     "output_type": "stream",
     "text": [
      "HelpDesk Data: \n",
      "                                            Question  \\\n",
      "0              My Mac does not boot, what can I do ?   \n",
      "1                Can Mac Air get infected by a Virus   \n",
      "2   My Mac is having boot problems, how do I fix it?   \n",
      "3                 Do I need an anti virus on my Mac?   \n",
      "4  I have trouble connecting my monitor to my Mac...   \n",
      "\n",
      "                   LinkToAnswer  \n",
      "0  http://faq/mac-does-not-boot  \n",
      "1     http://faq/mac-book-virus  \n",
      "2  http://faq/mac-does-not-boot  \n",
      "3     http://faq/mac-book-virus  \n",
      "4  http://faq/mac-monitor-setup  \n"
     ]
    }
   ],
   "source": [
    "from collections import defaultdict\n",
    "from gensim import corpora\n",
    "from gensim.parsing.preprocessing import remove_stopwords\n",
    "import numpy as np\n",
    "import os\n",
    "import pandas as pd\n",
    "\n",
    "#Read the input CSV into a Pandas dataframe\n",
    "helpdesk_data = pd.read_csv(\"helpdesk_dataset.csv\")\n",
    "\n",
    "print(\"HelpDesk Data: \")\n",
    "print(helpdesk_data.head())\n",
    "\n"
   ]
  },
  {
   "cell_type": "code",
   "execution_count": 3,
   "metadata": {},
   "outputs": [
    {
     "name": "stdout",
     "output_type": "stream",
     "text": [
      "Can Mac Air get infected by a Virus\n",
      "['mac', 'air', 'infected', 'virus']\n"
     ]
    }
   ],
   "source": [
    "#Extract the Question column \n",
    "documents = helpdesk_data[\"Question\"]\n",
    "\n",
    "#Function to cleanse document\n",
    "def process_document(document):\n",
    "\n",
    "    #Remove stopwords, convert to lower case and remove \"?\" character\n",
    "    cleaned_document = remove_stopwords(document.lower()).replace(\"?\",\"\")  \n",
    "    return cleaned_document.split()\n",
    "\n",
    "#Create a document vector\n",
    "doc_vectors=[process_document(document)\n",
    "             for document in documents]\n",
    "\n",
    "#Print the document and the corresponding document vector to compare\n",
    "print(documents[1])\n",
    "print(doc_vectors[1])"
   ]
  },
  {
   "cell_type": "markdown",
   "metadata": {},
   "source": [
    "## 03.05. Creating the LSI Model"
   ]
  },
  {
   "cell_type": "code",
   "execution_count": 4,
   "metadata": {},
   "outputs": [
    {
     "name": "stdout",
     "output_type": "stream",
     "text": [
      "Dictionary created :\n"
     ]
    },
    {
     "data": {
      "text/plain": [
       "{'boot,': 0,\n",
       " 'mac': 1,\n",
       " 'air': 2,\n",
       " 'infected': 3,\n",
       " 'virus': 4,\n",
       " 'boot': 5,\n",
       " 'fix': 6,\n",
       " 'having': 7,\n",
       " 'it': 8,\n",
       " 'problems,': 9,\n",
       " 'anti': 10,\n",
       " 'need': 11,\n",
       " 'connecting': 12,\n",
       " 'help': 13,\n",
       " 'mac.': 14,\n",
       " 'monitor': 15,\n",
       " 'trouble': 16,\n",
       " 'boots,': 17,\n",
       " 'error': 18,\n",
       " 'shows': 19,\n",
       " 'software': 20,\n",
       " 'unsupporterd': 21,\n",
       " 'connected': 22,\n",
       " 'proper': 23,\n",
       " 'resolution': 24,\n",
       " 'flicker': 25,\n",
       " 'monitor.': 26,\n",
       " 'hdmi': 27,\n",
       " 'use': 28,\n",
       " 'connect': 29,\n",
       " 'monitors': 30}"
      ]
     },
     "execution_count": 4,
     "metadata": {},
     "output_type": "execute_result"
    }
   ],
   "source": [
    "#Create the dictionary\n",
    "dictionary = corpora.Dictionary(doc_vectors)\n",
    "\n",
    "print(\"Dictionary created :\")\n",
    "dictionary.token2id\n"
   ]
  },
  {
   "cell_type": "code",
   "execution_count": 5,
   "metadata": {},
   "outputs": [
    {
     "name": "stdout",
     "output_type": "stream",
     "text": [
      "['mac', 'air', 'infected', 'virus']\n",
      "[(1, 1), (2, 1), (3, 1), (4, 1)]\n"
     ]
    }
   ],
   "source": [
    "#Create a corpus\n",
    "corpus = [dictionary.doc2bow(doc_vector) \n",
    "          for doc_vector in doc_vectors]\n",
    "\n",
    "#Review the corpus generated\n",
    "print(doc_vectors[1])\n",
    "print(corpus[1])"
   ]
  },
  {
   "cell_type": "code",
   "execution_count": 6,
   "metadata": {},
   "outputs": [
    {
     "name": "stdout",
     "output_type": "stream",
     "text": [
      "[ 1.0000000e+00  3.5355341e-01  2.8867516e-01  3.5355341e-01\n",
      "  2.5866751e-08  2.8867513e-01 -2.9364895e-08  2.8446223e-10\n",
      "  3.5355338e-01  4.0824834e-01]\n",
      "[ 3.5355341e-01  9.9999994e-01  2.0412415e-01  5.0000000e-01\n",
      "  2.2450529e-08  2.0412415e-01 -3.7067536e-09  2.8867513e-01\n",
      "  2.5000003e-01  2.8867513e-01]\n",
      "[ 2.8867516e-01  2.0412415e-01  9.9999994e-01  2.0412415e-01\n",
      " -1.8794251e-08  1.6666667e-01  3.0860671e-01  1.0505437e-08\n",
      "  2.0412411e-01  2.3570226e-01]\n",
      "[ 3.5355341e-01  5.0000000e-01  2.0412415e-01  1.0000000e+00\n",
      "  2.2450529e-08  2.0412415e-01 -3.7067536e-09  2.8867513e-01\n",
      "  2.5000003e-01  2.8867513e-01]\n",
      "[ 2.5866751e-08  2.2450529e-08 -1.8794251e-08  2.2450529e-08\n",
      "  1.0000000e+00  2.2861792e-08  3.3806166e-01 -4.6973598e-09\n",
      "  2.2360680e-01 -4.1850909e-10]\n",
      "[ 2.8867513e-01  2.0412415e-01  1.6666667e-01  2.0412415e-01\n",
      "  2.2861792e-08  1.0000001e+00 -3.3151069e-09 -8.8221241e-10\n",
      "  2.0412418e-01  2.3570229e-01]\n",
      "[-2.9364895e-08 -3.7067536e-09  3.0860671e-01 -3.7067536e-09\n",
      "  3.3806166e-01 -3.3151069e-09  1.0000000e+00 -5.6750404e-09\n",
      "  1.8898220e-01 -3.0072087e-08]\n",
      "[ 2.8446223e-10  2.8867513e-01  1.0505437e-08  2.8867513e-01\n",
      " -4.6973598e-09 -8.8221241e-10 -5.6750404e-09  9.9999988e-01\n",
      "  2.7179819e-08  3.7548595e-08]\n",
      "[3.5355338e-01 2.5000003e-01 2.0412411e-01 2.5000003e-01 2.2360680e-01\n",
      " 2.0412418e-01 1.8898220e-01 2.7179819e-08 9.9999994e-01 2.8867513e-01]\n",
      "[ 4.0824834e-01  2.8867513e-01  2.3570226e-01  2.8867513e-01\n",
      " -4.1850909e-10  2.3570229e-01 -3.0072087e-08  3.7548595e-08\n",
      "  2.8867513e-01  1.0000000e+00]\n"
     ]
    }
   ],
   "source": [
    "#Build the LSI Model\n",
    "from gensim import models,similarities\n",
    "\n",
    "#Create the model\n",
    "lsi = models.LsiModel(corpus, id2word=dictionary)\n",
    "\n",
    "#Create a similarity Index\n",
    "index = similarities.MatrixSimilarity(lsi[corpus])\n",
    "\n",
    "for similarities in index:\n",
    "    print(similarities)"
   ]
  },
  {
   "cell_type": "markdown",
   "metadata": {},
   "source": [
    "## 03.06. Recommending FAQs"
   ]
  },
  {
   "cell_type": "code",
   "execution_count": 7,
   "metadata": {},
   "outputs": [
    {
     "name": "stdout",
     "output_type": "stream",
     "text": [
      "Question translated to : [(1, 1), (5, 1)]\n",
      "Similarity scores : [(0, 0.67856914), (1, 0.47982085), (2, 0.7835442), (3, 0.47982085), (4, -1.4901161e-08), (5, 0.39177215), (6, -5.2154064e-08), (7, -7.450581e-09), (8, 0.47982085), (9, 0.55404943)]\n"
     ]
    }
   ],
   "source": [
    "\n",
    "question = \"I have boot problems in my Mac\"\n",
    "\n",
    "#Pre Process the Question \n",
    "question_corpus = dictionary.doc2bow(process_document(question))\n",
    "print(\"Question translated to :\", question_corpus)\n",
    "\n",
    "#Create an LSI Representation\n",
    "vec_lsi = lsi[question_corpus]  \n",
    "\n",
    "#Find similarity of the question with existing documents\n",
    "sims = index[vec_lsi]  \n",
    "print(\"Similarity scores :\",list(enumerate(sims)))"
   ]
  },
  {
   "cell_type": "code",
   "execution_count": 8,
   "metadata": {},
   "outputs": [
    {
     "name": "stdout",
     "output_type": "stream",
     "text": [
      "Sorted Document index : [2 0 9 8 3 1 5 7 4 6]\n",
      "\n",
      " ------------------------------------------------------------ \n",
      "\n",
      "0.7835442  ->  My Mac is having boot problems, how do I fix it?\n",
      "0.67856914  ->  My Mac does not boot, what can I do ?\n",
      "0.55404943  ->  Can I connect two monitors to my Mac?\n",
      "0.47982085  ->  Can I use a HDMI monitor with my Mac?\n",
      "0.47982085  ->  Do I need an anti virus on my Mac?\n",
      "0.47982085  ->  Can Mac Air get infected by a Virus\n",
      "0.39177215  ->  When my Mac boots, it shows an unsupporterd software error\n",
      "-7.450581e-09  ->  I see a flicker in my monitor. Is that a virus?\n",
      "-1.4901161e-08  ->  I have trouble connecting my monitor to my Mac. Can you please help?\n",
      "-5.2154064e-08  ->  My Monitor does not show in proper resolution when connected to my Mac. How do I fix it?\n",
      "\n",
      " ------------------------------------------------------------ \n",
      "\n",
      "Recommended FAQ : http://faq/mac-does-not-boot\n"
     ]
    }
   ],
   "source": [
    "#Find the corresponding FAQ Link\n",
    "\n",
    "#sort an array in reverse order and get indexes\n",
    "matches=np.argsort(sims)[::-1] \n",
    "print(\"Sorted Document index :\", matches)\n",
    "\n",
    "print(\"\\n\", \"-\"*60, \"\\n\")\n",
    "for i in matches:\n",
    "    print(sims[i], \" -> \", helpdesk_data.iloc[i][\"Question\"])\n",
    "\n",
    "print(\"\\n\", \"-\"*60, \"\\n\")\n",
    "print(\"Recommended FAQ :\" , helpdesk_data.iloc[matches[0]][\"LinkToAnswer\"] )"
   ]
  },
  {
   "cell_type": "code",
   "execution_count": null,
   "metadata": {},
   "outputs": [],
   "source": []
  }
 ],
 "metadata": {
  "kernelspec": {
   "display_name": "Python 3",
   "language": "python",
   "name": "python3"
  },
  "language_info": {
   "codemirror_mode": {
    "name": "ipython",
    "version": 3
   },
   "file_extension": ".py",
   "mimetype": "text/x-python",
   "name": "python",
   "nbconvert_exporter": "python",
   "pygments_lexer": "ipython3",
   "version": "3.11.5"
  }
 },
 "nbformat": 4,
 "nbformat_minor": 4
}
